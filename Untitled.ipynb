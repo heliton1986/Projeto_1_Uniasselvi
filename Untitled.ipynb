{
 "cells": [
  {
   "cell_type": "code",
   "execution_count": 2,
   "id": "20fd869e",
   "metadata": {},
   "outputs": [
    {
     "name": "stdout",
     "output_type": "stream",
     "text": [
      "Collecting jupyter_contrib_nbextensions\n",
      "  Using cached jupyter_contrib_nbextensions-0.5.1-py2.py3-none-any.whl (20.9 MB)\n",
      "Requirement already satisfied: tornado in c:\\users\\heliton\\.pyenv\\pyenv-win\\versions\\3.8.5\\lib\\site-packages (from jupyter_contrib_nbextensions) (6.1)\n",
      "Requirement already satisfied: ipython-genutils in c:\\users\\heliton\\.pyenv\\pyenv-win\\versions\\3.8.5\\lib\\site-packages (from jupyter_contrib_nbextensions) (0.2.0)\n",
      "Requirement already satisfied: lxml in c:\\users\\heliton\\.pyenv\\pyenv-win\\versions\\3.8.5\\lib\\site-packages (from jupyter_contrib_nbextensions) (4.6.3)\n",
      "Requirement already satisfied: jupyter-contrib-core>=0.3.3 in c:\\users\\heliton\\.pyenv\\pyenv-win\\versions\\3.8.5\\lib\\site-packages (from jupyter_contrib_nbextensions) (0.3.3)\n",
      "Requirement already satisfied: nbconvert>=4.2 in c:\\users\\heliton\\.pyenv\\pyenv-win\\versions\\3.8.5\\lib\\site-packages (from jupyter_contrib_nbextensions) (6.0.7)\n",
      "Requirement already satisfied: pyyaml in c:\\users\\heliton\\.pyenv\\pyenv-win\\versions\\3.8.5\\lib\\site-packages (from jupyter_contrib_nbextensions) (5.4.1)\n",
      "Requirement already satisfied: traitlets>=4.1 in c:\\users\\heliton\\.pyenv\\pyenv-win\\versions\\3.8.5\\lib\\site-packages (from jupyter_contrib_nbextensions) (5.0.5)\n",
      "Requirement already satisfied: jupyter-core in c:\\users\\heliton\\.pyenv\\pyenv-win\\versions\\3.8.5\\lib\\site-packages (from jupyter_contrib_nbextensions) (4.7.1)\n",
      "Requirement already satisfied: jupyter-highlight-selected-word>=0.1.1 in c:\\users\\heliton\\.pyenv\\pyenv-win\\versions\\3.8.5\\lib\\site-packages (from jupyter_contrib_nbextensions) (0.2.0)\n",
      "Requirement already satisfied: jupyter-nbextensions-configurator>=0.4.0 in c:\\users\\heliton\\.pyenv\\pyenv-win\\versions\\3.8.5\\lib\\site-packages (from jupyter_contrib_nbextensions) (0.4.1)\n",
      "Requirement already satisfied: jupyter-latex-envs>=1.3.8 in c:\\users\\heliton\\.pyenv\\pyenv-win\\versions\\3.8.5\\lib\\site-packages (from jupyter_contrib_nbextensions) (1.4.6)\n",
      "Requirement already satisfied: notebook>=4.0 in c:\\users\\heliton\\.pyenv\\pyenv-win\\versions\\3.8.5\\lib\\site-packages (from jupyter_contrib_nbextensions) (6.4.0)\n",
      "Requirement already satisfied: setuptools in c:\\users\\heliton\\.pyenv\\pyenv-win\\versions\\3.8.5\\lib\\site-packages (from jupyter-contrib-core>=0.3.3->jupyter_contrib_nbextensions) (47.1.0)\n",
      "Requirement already satisfied: ipython in c:\\users\\heliton\\.pyenv\\pyenv-win\\versions\\3.8.5\\lib\\site-packages (from jupyter-latex-envs>=1.3.8->jupyter_contrib_nbextensions) (7.24.0)\n",
      "Requirement already satisfied: bleach in c:\\users\\heliton\\.pyenv\\pyenv-win\\versions\\3.8.5\\lib\\site-packages (from nbconvert>=4.2->jupyter_contrib_nbextensions) (3.3.0)\n",
      "Requirement already satisfied: nbformat>=4.4 in c:\\users\\heliton\\.pyenv\\pyenv-win\\versions\\3.8.5\\lib\\site-packages (from nbconvert>=4.2->jupyter_contrib_nbextensions) (5.1.3)\n",
      "Requirement already satisfied: defusedxml in c:\\users\\heliton\\.pyenv\\pyenv-win\\versions\\3.8.5\\lib\\site-packages (from nbconvert>=4.2->jupyter_contrib_nbextensions) (0.7.1)\n",
      "Requirement already satisfied: jupyterlab-pygments in c:\\users\\heliton\\.pyenv\\pyenv-win\\versions\\3.8.5\\lib\\site-packages (from nbconvert>=4.2->jupyter_contrib_nbextensions) (0.1.2)\n",
      "Requirement already satisfied: mistune<2,>=0.8.1 in c:\\users\\heliton\\.pyenv\\pyenv-win\\versions\\3.8.5\\lib\\site-packages (from nbconvert>=4.2->jupyter_contrib_nbextensions) (0.8.4)\n",
      "Requirement already satisfied: entrypoints>=0.2.2 in c:\\users\\heliton\\.pyenv\\pyenv-win\\versions\\3.8.5\\lib\\site-packages (from nbconvert>=4.2->jupyter_contrib_nbextensions) (0.3)\n",
      "Requirement already satisfied: testpath in c:\\users\\heliton\\.pyenv\\pyenv-win\\versions\\3.8.5\\lib\\site-packages (from nbconvert>=4.2->jupyter_contrib_nbextensions) (0.5.0)\n",
      "Requirement already satisfied: jinja2>=2.4 in c:\\users\\heliton\\.pyenv\\pyenv-win\\versions\\3.8.5\\lib\\site-packages (from nbconvert>=4.2->jupyter_contrib_nbextensions) (3.0.1)\n",
      "Requirement already satisfied: nbclient<0.6.0,>=0.5.0 in c:\\users\\heliton\\.pyenv\\pyenv-win\\versions\\3.8.5\\lib\\site-packages (from nbconvert>=4.2->jupyter_contrib_nbextensions) (0.5.3)\n",
      "Requirement already satisfied: pygments>=2.4.1 in c:\\users\\heliton\\.pyenv\\pyenv-win\\versions\\3.8.5\\lib\\site-packages (from nbconvert>=4.2->jupyter_contrib_nbextensions) (2.9.0)\n",
      "Requirement already satisfied: pandocfilters>=1.4.1 in c:\\users\\heliton\\.pyenv\\pyenv-win\\versions\\3.8.5\\lib\\site-packages (from nbconvert>=4.2->jupyter_contrib_nbextensions) (1.4.3)\n",
      "Requirement already satisfied: MarkupSafe>=2.0 in c:\\users\\heliton\\.pyenv\\pyenv-win\\versions\\3.8.5\\lib\\site-packages (from jinja2>=2.4->nbconvert>=4.2->jupyter_contrib_nbextensions) (2.0.1)\n",
      "Requirement already satisfied: nest-asyncio in c:\\users\\heliton\\.pyenv\\pyenv-win\\versions\\3.8.5\\lib\\site-packages (from nbclient<0.6.0,>=0.5.0->nbconvert>=4.2->jupyter_contrib_nbextensions) (1.5.1)\n",
      "Requirement already satisfied: jupyter-client>=6.1.5 in c:\\users\\heliton\\.pyenv\\pyenv-win\\versions\\3.8.5\\lib\\site-packages (from nbclient<0.6.0,>=0.5.0->nbconvert>=4.2->jupyter_contrib_nbextensions) (6.1.12)\n",
      "Requirement already satisfied: async-generator in c:\\users\\heliton\\.pyenv\\pyenv-win\\versions\\3.8.5\\lib\\site-packages (from nbclient<0.6.0,>=0.5.0->nbconvert>=4.2->jupyter_contrib_nbextensions) (1.10)\n",
      "Requirement already satisfied: pyzmq>=13 in c:\\users\\heliton\\.pyenv\\pyenv-win\\versions\\3.8.5\\lib\\site-packages (from jupyter-client>=6.1.5->nbclient<0.6.0,>=0.5.0->nbconvert>=4.2->jupyter_contrib_nbextensions) (22.1.0)\n",
      "Requirement already satisfied: python-dateutil>=2.1 in c:\\users\\heliton\\.pyenv\\pyenv-win\\versions\\3.8.5\\lib\\site-packages (from jupyter-client>=6.1.5->nbclient<0.6.0,>=0.5.0->nbconvert>=4.2->jupyter_contrib_nbextensions) (2.8.1)\n",
      "Requirement already satisfied: pywin32>=1.0 in c:\\users\\heliton\\.pyenv\\pyenv-win\\versions\\3.8.5\\lib\\site-packages (from jupyter-core->jupyter_contrib_nbextensions) (301)\n",
      "Requirement already satisfied: jsonschema!=2.5.0,>=2.4 in c:\\users\\heliton\\.pyenv\\pyenv-win\\versions\\3.8.5\\lib\\site-packages (from nbformat>=4.4->nbconvert>=4.2->jupyter_contrib_nbextensions) (3.2.0)\n",
      "Requirement already satisfied: six>=1.11.0 in c:\\users\\heliton\\.pyenv\\pyenv-win\\versions\\3.8.5\\lib\\site-packages (from jsonschema!=2.5.0,>=2.4->nbformat>=4.4->nbconvert>=4.2->jupyter_contrib_nbextensions) (1.16.0)\n",
      "Requirement already satisfied: attrs>=17.4.0 in c:\\users\\heliton\\.pyenv\\pyenv-win\\versions\\3.8.5\\lib\\site-packages (from jsonschema!=2.5.0,>=2.4->nbformat>=4.4->nbconvert>=4.2->jupyter_contrib_nbextensions) (21.2.0)\n",
      "Requirement already satisfied: pyrsistent>=0.14.0 in c:\\users\\heliton\\.pyenv\\pyenv-win\\versions\\3.8.5\\lib\\site-packages (from jsonschema!=2.5.0,>=2.4->nbformat>=4.4->nbconvert>=4.2->jupyter_contrib_nbextensions) (0.17.3)\n",
      "Requirement already satisfied: argon2-cffi in c:\\users\\heliton\\.pyenv\\pyenv-win\\versions\\3.8.5\\lib\\site-packages (from notebook>=4.0->jupyter_contrib_nbextensions) (20.1.0)\n",
      "Requirement already satisfied: terminado>=0.8.3 in c:\\users\\heliton\\.pyenv\\pyenv-win\\versions\\3.8.5\\lib\\site-packages (from notebook>=4.0->jupyter_contrib_nbextensions) (0.10.0)\n",
      "Requirement already satisfied: Send2Trash>=1.5.0 in c:\\users\\heliton\\.pyenv\\pyenv-win\\versions\\3.8.5\\lib\\site-packages (from notebook>=4.0->jupyter_contrib_nbextensions) (1.5.0)\n",
      "Requirement already satisfied: ipykernel in c:\\users\\heliton\\.pyenv\\pyenv-win\\versions\\3.8.5\\lib\\site-packages (from notebook>=4.0->jupyter_contrib_nbextensions) (5.5.5)\n",
      "Requirement already satisfied: prometheus-client in c:\\users\\heliton\\.pyenv\\pyenv-win\\versions\\3.8.5\\lib\\site-packages (from notebook>=4.0->jupyter_contrib_nbextensions) (0.10.1)\n",
      "Requirement already satisfied: pywinpty>=1.1.0 in c:\\users\\heliton\\.pyenv\\pyenv-win\\versions\\3.8.5\\lib\\site-packages (from terminado>=0.8.3->notebook>=4.0->jupyter_contrib_nbextensions) (1.1.1)\n",
      "Requirement already satisfied: cffi>=1.0.0 in c:\\users\\heliton\\.pyenv\\pyenv-win\\versions\\3.8.5\\lib\\site-packages (from argon2-cffi->notebook>=4.0->jupyter_contrib_nbextensions) (1.14.5)\n",
      "Requirement already satisfied: pycparser in c:\\users\\heliton\\.pyenv\\pyenv-win\\versions\\3.8.5\\lib\\site-packages (from cffi>=1.0.0->argon2-cffi->notebook>=4.0->jupyter_contrib_nbextensions) (2.20)\n",
      "Requirement already satisfied: webencodings in c:\\users\\heliton\\.pyenv\\pyenv-win\\versions\\3.8.5\\lib\\site-packages (from bleach->nbconvert>=4.2->jupyter_contrib_nbextensions) (0.5.1)\n",
      "Requirement already satisfied: packaging in c:\\users\\heliton\\.pyenv\\pyenv-win\\versions\\3.8.5\\lib\\site-packages (from bleach->nbconvert>=4.2->jupyter_contrib_nbextensions) (20.9)\n",
      "Requirement already satisfied: pickleshare in c:\\users\\heliton\\.pyenv\\pyenv-win\\versions\\3.8.5\\lib\\site-packages (from ipython->jupyter-latex-envs>=1.3.8->jupyter_contrib_nbextensions) (0.7.5)\n",
      "Requirement already satisfied: colorama in c:\\users\\heliton\\.pyenv\\pyenv-win\\versions\\3.8.5\\lib\\site-packages (from ipython->jupyter-latex-envs>=1.3.8->jupyter_contrib_nbextensions) (0.4.4)\n",
      "Requirement already satisfied: backcall in c:\\users\\heliton\\.pyenv\\pyenv-win\\versions\\3.8.5\\lib\\site-packages (from ipython->jupyter-latex-envs>=1.3.8->jupyter_contrib_nbextensions) (0.2.0)\n",
      "Requirement already satisfied: jedi>=0.16 in c:\\users\\heliton\\.pyenv\\pyenv-win\\versions\\3.8.5\\lib\\site-packages (from ipython->jupyter-latex-envs>=1.3.8->jupyter_contrib_nbextensions) (0.18.0)"
     ]
    },
    {
     "name": "stderr",
     "output_type": "stream",
     "text": [
      "Traceback (most recent call last):\n",
      "  File \"c:\\users\\heliton\\appdata\\local\\programs\\python\\python39\\lib\\runpy.py\", line 197, in _run_module_as_main\n",
      "    return _run_code(code, main_globals, None,\n",
      "  File \"c:\\users\\heliton\\appdata\\local\\programs\\python\\python39\\lib\\runpy.py\", line 87, in _run_code\n",
      "    exec(code, run_globals)\n",
      "  File \"C:\\Users\\Heliton\\AppData\\Local\\Programs\\Python\\Python39\\Scripts\\jupyter.exe\\__main__.py\", line 7, in <module>\n",
      "  File \"c:\\users\\heliton\\appdata\\local\\programs\\python\\python39\\lib\\site-packages\\jupyter_core\\command.py\", line 285, in main\n",
      "    command = _jupyter_abspath(subcommand)\n",
      "  File \"c:\\users\\heliton\\appdata\\local\\programs\\python\\python39\\lib\\site-packages\\jupyter_core\\command.py\", line 124, in _jupyter_abspath\n",
      "    raise Exception(\n",
      "Exception: Jupyter command `jupyter-contrib` not found.\n"
     ]
    },
    {
     "name": "stdout",
     "output_type": "stream",
     "text": [
      "\n",
      "Requirement already satisfied: prompt-toolkit!=3.0.0,!=3.0.1,<3.1.0,>=2.0.0 in c:\\users\\heliton\\.pyenv\\pyenv-win\\versions\\3.8.5\\lib\\site-packages (from ipython->jupyter-latex-envs>=1.3.8->jupyter_contrib_nbextensions) (3.0.18)\n",
      "Requirement already satisfied: matplotlib-inline in c:\\users\\heliton\\.pyenv\\pyenv-win\\versions\\3.8.5\\lib\\site-packages (from ipython->jupyter-latex-envs>=1.3.8->jupyter_contrib_nbextensions) (0.1.2)\n",
      "Requirement already satisfied: decorator in c:\\users\\heliton\\.pyenv\\pyenv-win\\versions\\3.8.5\\lib\\site-packages (from ipython->jupyter-latex-envs>=1.3.8->jupyter_contrib_nbextensions) (5.0.9)\n",
      "Requirement already satisfied: parso<0.9.0,>=0.8.0 in c:\\users\\heliton\\.pyenv\\pyenv-win\\versions\\3.8.5\\lib\\site-packages (from jedi>=0.16->ipython->jupyter-latex-envs>=1.3.8->jupyter_contrib_nbextensions) (0.8.2)\n",
      "Requirement already satisfied: wcwidth in c:\\users\\heliton\\.pyenv\\pyenv-win\\versions\\3.8.5\\lib\\site-packages (from prompt-toolkit!=3.0.0,!=3.0.1,<3.1.0,>=2.0.0->ipython->jupyter-latex-envs>=1.3.8->jupyter_contrib_nbextensions) (0.2.5)\n",
      "Requirement already satisfied: pyparsing>=2.0.2 in c:\\users\\heliton\\.pyenv\\pyenv-win\\versions\\3.8.5\\lib\\site-packages (from packaging->bleach->nbconvert>=4.2->jupyter_contrib_nbextensions) (2.4.7)\n",
      "Installing collected packages: jupyter-contrib-nbextensions\n",
      "Successfully installed jupyter-contrib-nbextensions-0.5.1\n"
     ]
    }
   ],
   "source": [
    "!pip install jupyter_contrib_nbextensions && jupyter contrib nbextension install"
   ]
  },
  {
   "cell_type": "code",
   "execution_count": 2,
   "id": "0b88c39a",
   "metadata": {},
   "outputs": [],
   "source": [
    "%config IPCompleter.greedy=True"
   ]
  },
  {
   "cell_type": "code",
   "execution_count": 4,
   "id": "32f0f353",
   "metadata": {},
   "outputs": [
    {
     "name": "stderr",
     "output_type": "stream",
     "text": [
      "'jupyter-contrib-nbextension' nao é reconhecido como um comando interno\n",
      "ou externo, um programa operável ou um arquivo em lotes.\n"
     ]
    }
   ],
   "source": [
    "p"
   ]
  }
 ],
 "metadata": {
  "kernelspec": {
   "display_name": "Python 3",
   "language": "python",
   "name": "python3"
  },
  "language_info": {
   "codemirror_mode": {
    "name": "ipython",
    "version": 3
   },
   "file_extension": ".py",
   "mimetype": "text/x-python",
   "name": "python",
   "nbconvert_exporter": "python",
   "pygments_lexer": "ipython3",
   "version": "3.9.4"
  }
 },
 "nbformat": 4,
 "nbformat_minor": 5
}
