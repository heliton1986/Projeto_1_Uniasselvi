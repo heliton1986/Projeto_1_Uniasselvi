{
 "cells": [
  {
   "cell_type": "markdown",
   "id": "6cb1b516",
   "metadata": {},
   "source": [
    "# Extrai tweets"
   ]
  },
  {
   "cell_type": "code",
   "execution_count": 13,
   "id": "fdb067cf",
   "metadata": {},
   "outputs": [],
   "source": [
    "import json\n",
    "from datetime import datetime\n",
    "import tweepy"
   ]
  },
  {
   "cell_type": "code",
   "execution_count": 5,
   "id": "ad4e08fa",
   "metadata": {},
   "outputs": [
    {
     "name": "stdout",
     "output_type": "stream",
     "text": [
      "Requirement already satisfied: tweepy in c:\\users\\heliton\\miniconda3\\envs\\python_fundamentos_dsa\\lib\\site-packages (3.10.0)\n",
      "Requirement already satisfied: datetime in c:\\users\\heliton\\miniconda3\\envs\\python_fundamentos_dsa\\lib\\site-packages (4.3)\n",
      "Requirement already satisfied: pytz in c:\\users\\heliton\\miniconda3\\envs\\python_fundamentos_dsa\\lib\\site-packages (from datetime) (2021.1)\n",
      "Requirement already satisfied: zope.interface in c:\\users\\heliton\\miniconda3\\envs\\python_fundamentos_dsa\\lib\\site-packages (from datetime) (5.4.0)\n",
      "Requirement already satisfied: requests-oauthlib>=0.7.0 in c:\\users\\heliton\\miniconda3\\envs\\python_fundamentos_dsa\\lib\\site-packages (from tweepy) (1.3.0)\n",
      "Requirement already satisfied: requests[socks]>=2.11.1 in c:\\users\\heliton\\miniconda3\\envs\\python_fundamentos_dsa\\lib\\site-packages (from tweepy) (2.25.1)\n",
      "Requirement already satisfied: six>=1.10.0 in c:\\users\\heliton\\miniconda3\\envs\\python_fundamentos_dsa\\lib\\site-packages (from tweepy) (1.15.0)\n",
      "Requirement already satisfied: oauthlib>=3.0.0 in c:\\users\\heliton\\miniconda3\\envs\\python_fundamentos_dsa\\lib\\site-packages (from requests-oauthlib>=0.7.0->tweepy) (3.1.0)\n",
      "Requirement already satisfied: certifi>=2017.4.17 in c:\\users\\heliton\\miniconda3\\envs\\python_fundamentos_dsa\\lib\\site-packages (from requests[socks]>=2.11.1->tweepy) (2020.12.5)\n",
      "Requirement already satisfied: idna<3,>=2.5 in c:\\users\\heliton\\miniconda3\\envs\\python_fundamentos_dsa\\lib\\site-packages (from requests[socks]>=2.11.1->tweepy) (2.10)\n",
      "Requirement already satisfied: chardet<5,>=3.0.2 in c:\\users\\heliton\\miniconda3\\envs\\python_fundamentos_dsa\\lib\\site-packages (from requests[socks]>=2.11.1->tweepy) (4.0.0)\n",
      "Requirement already satisfied: urllib3<1.27,>=1.21.1 in c:\\users\\heliton\\miniconda3\\envs\\python_fundamentos_dsa\\lib\\site-packages (from requests[socks]>=2.11.1->tweepy) (1.26.4)\n",
      "Requirement already satisfied: PySocks!=1.5.7,>=1.5.6 in c:\\users\\heliton\\miniconda3\\envs\\python_fundamentos_dsa\\lib\\site-packages (from requests[socks]>=2.11.1->tweepy) (1.7.1)\n",
      "Requirement already satisfied: setuptools in c:\\users\\heliton\\miniconda3\\envs\\python_fundamentos_dsa\\lib\\site-packages (from zope.interface->datetime) (52.0.0.post20210125)\n"
     ]
    }
   ],
   "source": [
    "!pip install tweepy datetime"
   ]
  },
  {
   "cell_type": "markdown",
   "id": "85c58327",
   "metadata": {},
   "source": [
    "# Play"
   ]
  },
  {
   "cell_type": "code",
   "execution_count": 7,
   "id": "223951b6",
   "metadata": {},
   "outputs": [
    {
     "name": "stderr",
     "output_type": "stream",
     "text": [
      "Traceback (most recent call last):\n",
      "  File \"C:\\Users\\Heliton\\Documents\\GitHub\\Projeto_Twitter\\get_tweets.py\", line 5, in <module>\n",
      "    from tweepy import OAutHandler, Stream, StreamListener\n",
      "ImportError: cannot import name 'OAutHandler' from 'tweepy' (C:\\Users\\Heliton\\miniconda3\\envs\\python_fundamentos_dsa\\lib\\site-packages\\tweepy\\__init__.py)\n"
     ]
    }
   ],
   "source": [
    "!python get_tweets.py"
   ]
  }
 ],
 "metadata": {
  "kernelspec": {
   "display_name": "Python 3",
   "language": "python",
   "name": "python3"
  },
  "language_info": {
   "codemirror_mode": {
    "name": "ipython",
    "version": 3
   },
   "file_extension": ".py",
   "mimetype": "text/x-python",
   "name": "python",
   "nbconvert_exporter": "python",
   "pygments_lexer": "ipython3",
   "version": "3.9.2"
  }
 },
 "nbformat": 4,
 "nbformat_minor": 5
}
