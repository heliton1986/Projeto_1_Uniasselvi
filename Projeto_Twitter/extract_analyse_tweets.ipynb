{
 "cells": [
  {
   "cell_type": "markdown",
   "id": "fd5e377d",
   "metadata": {},
   "source": [
    "# Extrai tweets"
   ]
  },
  {
   "cell_type": "code",
   "execution_count": null,
   "id": "a061bb07",
   "metadata": {},
   "outputs": [],
   "source": [
    "!pip install tweepy "
   ]
  },
  {
   "cell_type": "markdown",
   "id": "767532ff",
   "metadata": {},
   "source": [
    "# Play"
   ]
  },
  {
   "cell_type": "code",
   "execution_count": 1,
   "id": "f211bcf7",
   "metadata": {},
   "outputs": [
    {
     "output_type": "stream",
     "name": "stdout",
     "text": [
      "^C\n"
     ]
    }
   ],
   "source": [
    "!python get_tweets.py"
   ]
  }
 ],
 "metadata": {
  "kernelspec": {
   "name": "python392jvsc74a57bd050c93bd6a88d5a56fafcaaf86f19d30d33d3068901c9b6ce1cc80821349e3a1a",
   "display_name": "Python 3.9.2 64-bit ('python_fundamentos_dsa': conda)"
  },
  "language_info": {
   "codemirror_mode": {
    "name": "ipython",
    "version": 3
   },
   "file_extension": ".py",
   "mimetype": "text/x-python",
   "name": "python",
   "nbconvert_exporter": "python",
   "pygments_lexer": "ipython3",
   "version": "3.9.2"
  }
 },
 "nbformat": 4,
 "nbformat_minor": 5
}