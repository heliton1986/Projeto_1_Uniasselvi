{
 "cells": [
  {
   "cell_type": "markdown",
   "id": "fd5e377d",
   "metadata": {},
   "source": [
    "# Extrai tweets"
   ]
  },
  {
   "cell_type": "code",
   "execution_count": 4,
   "id": "a061bb07",
   "metadata": {},
   "outputs": [
    {
     "name": "stdout",
     "output_type": "stream",
     "text": [
      "Requirement already satisfied: tweepy in c:\\users\\heliton\\miniconda3\\envs\\python_fundamentos_dsa\\lib\\site-packages (3.10.0)\n",
      "Requirement already satisfied: requests[socks]>=2.11.1 in c:\\users\\heliton\\miniconda3\\envs\\python_fundamentos_dsa\\lib\\site-packages (from tweepy) (2.25.1)\n",
      "Requirement already satisfied: requests-oauthlib>=0.7.0 in c:\\users\\heliton\\miniconda3\\envs\\python_fundamentos_dsa\\lib\\site-packages (from tweepy) (1.3.0)\n",
      "Requirement already satisfied: six>=1.10.0 in c:\\users\\heliton\\miniconda3\\envs\\python_fundamentos_dsa\\lib\\site-packages (from tweepy) (1.15.0)\n",
      "Requirement already satisfied: oauthlib>=3.0.0 in c:\\users\\heliton\\miniconda3\\envs\\python_fundamentos_dsa\\lib\\site-packages (from requests-oauthlib>=0.7.0->tweepy) (3.1.0)\n",
      "Requirement already satisfied: chardet<5,>=3.0.2 in c:\\users\\heliton\\miniconda3\\envs\\python_fundamentos_dsa\\lib\\site-packages (from requests[socks]>=2.11.1->tweepy) (4.0.0)\n",
      "Requirement already satisfied: certifi>=2017.4.17 in c:\\users\\heliton\\miniconda3\\envs\\python_fundamentos_dsa\\lib\\site-packages (from requests[socks]>=2.11.1->tweepy) (2020.12.5)\n",
      "Requirement already satisfied: urllib3<1.27,>=1.21.1 in c:\\users\\heliton\\miniconda3\\envs\\python_fundamentos_dsa\\lib\\site-packages (from requests[socks]>=2.11.1->tweepy) (1.26.4)\n",
      "Requirement already satisfied: idna<3,>=2.5 in c:\\users\\heliton\\miniconda3\\envs\\python_fundamentos_dsa\\lib\\site-packages (from requests[socks]>=2.11.1->tweepy) (2.10)\n",
      "Requirement already satisfied: PySocks!=1.5.7,>=1.5.6 in c:\\users\\heliton\\miniconda3\\envs\\python_fundamentos_dsa\\lib\\site-packages (from requests[socks]>=2.11.1->tweepy) (1.7.1)\n"
     ]
    }
   ],
   "source": [
    "!pip install tweepy "
   ]
  },
  {
   "cell_type": "markdown",
   "id": "767532ff",
   "metadata": {},
   "source": [
    "# Play"
   ]
  },
  {
   "cell_type": "code",
   "execution_count": 3,
   "id": "f211bcf7",
   "metadata": {},
   "outputs": [
    {
     "name": "stdout",
     "output_type": "stream",
     "text": [
      "^C\n"
     ]
    }
   ],
   "source": [
    "!python get_tweets.py"
   ]
  },
  {
   "cell_type": "code",
   "execution_count": 4,
   "id": "5ccf65d6",
   "metadata": {},
   "outputs": [
    {
     "name": "stderr",
     "output_type": "stream",
     "text": [
      "python: can't open file 'C:\\Users\\Heliton\\Documents\\GitHub\\Projeto_Twitter\\manipulaJSON.py': [Errno 2] No such file or directory\n"
     ]
    }
   ],
   "source": [
    "!python manipulaJSON.py"
   ]
  }
 ],
 "metadata": {
  "kernelspec": {
   "display_name": "Python 3",
   "language": "python",
   "name": "python3"
  },
  "language_info": {
   "codemirror_mode": {
    "name": "ipython",
    "version": 3
   },
   "file_extension": ".py",
   "mimetype": "text/x-python",
   "name": "python",
   "nbconvert_exporter": "python",
   "pygments_lexer": "ipython3",
   "version": "3.9.2"
  }
 },
 "nbformat": 4,
 "nbformat_minor": 5
}
